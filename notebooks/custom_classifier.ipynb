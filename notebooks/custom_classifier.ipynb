{
 "cells": [
  {
   "cell_type": "code",
   "execution_count": 2,
   "id": "d6ea65a4",
   "metadata": {},
   "outputs": [
    {
     "name": "stdout",
     "output_type": "stream",
     "text": [
      "Python:\t\t3.8.20 (default, Oct  3 2024, 15:19:54) [MSC v.1929 64 bit (AMD64)]\n",
      "Numpy:\t\t1.24.3\n",
      "Tensorflow:\t2.13.0\n",
      "Keras:\t\t2.13.1\n"
     ]
    }
   ],
   "source": [
    "\"\"\"\n",
    "Imports\n",
    "\"\"\"\n",
    "import sys\n",
    "print(f\"Python:\\t\\t{sys.version}\")\n",
    "import numpy as np\n",
    "print(f\"Numpy:\\t\\t{np.__version__}\")\n",
    "import tensorflow as tf\n",
    "print(f\"Tensorflow:\\t{tf.__version__}\")\n",
    "import keras\n",
    "print(f\"Keras:\\t\\t{keras.__version__}\")\n",
    "\n",
    "import os\n",
    "import matplotlib.pyplot as plt\n",
    "from keras import Sequential\n",
    "from keras import layers"
   ]
  },
  {
   "cell_type": "code",
   "execution_count": 13,
   "id": "6c8090a2",
   "metadata": {},
   "outputs": [],
   "source": [
    "\"\"\"\n",
    "Options\n",
    "\"\"\"\n",
    "model_name = \"DemooNet_8c_3d_60e_32b\"\n",
    "\n",
    "image_width = 128\n",
    "image_height = 128\n",
    "channels_dim = 3\n",
    "classes_dim = 6\n",
    "batch_size = 32\n",
    "\n",
    "validation_split = 0.2\n",
    "base_learning_rate = 0.001\n",
    "epochs_total = 60"
   ]
  },
  {
   "cell_type": "code",
   "execution_count": 14,
   "id": "6565d2c9",
   "metadata": {},
   "outputs": [],
   "source": [
    "\"\"\"\n",
    "Pathing\n",
    "\"\"\"\n",
    "SPECTROGRAMS_DIR = \"../data/spectrograms/combined\"\n",
    "TF_MODELS_DIR = \"../data/models_tf\"\n",
    "TFLITE_MODELS_DIR = \"../data/models_tflite\""
   ]
  },
  {
   "cell_type": "code",
   "execution_count": 4,
   "id": "ccade3ff-fb9d-417f-988c-dbc465d1780a",
   "metadata": {},
   "outputs": [
    {
     "name": "stdout",
     "output_type": "stream",
     "text": [
      "[]\n"
     ]
    }
   ],
   "source": [
    "\"\"\"\n",
    "Configure GPU\n",
    "\"\"\"\n",
    "gpus = tf.config.list_physical_devices(\"GPU\")\n",
    "print(gpus)\n",
    "if gpus:\n",
    "  try:\n",
    "    for gpu in gpus:\n",
    "      tf.config.experimental.set_memory_growth(gpu, True)\n",
    "    logical_gpus = tf.config.list_logical_devices(\"GPU\")\n",
    "    print(f\"{len(gpus)} physical GPUs\\n{len(logical_gpus)} logical GPUs\")\n",
    "  except RuntimeError as e:\n",
    "    print(f\"Error: {e}\")"
   ]
  },
  {
   "cell_type": "code",
   "execution_count": 16,
   "id": "25d88358-9dfc-4431-ae5c-d2a4fa45b22f",
   "metadata": {},
   "outputs": [],
   "source": [
    "\"\"\"\n",
    "Functions\n",
    "\"\"\"\n",
    "def resize_or_crop(image, label, target_height, target_width):\n",
    "    shape = tf.shape(image)\n",
    "    height, width = shape[0], shape[1]\n",
    "\n",
    "    def crop():\n",
    "        offset_height = (height - target_height) // 2\n",
    "        offset_width = (width - target_width) // 2\n",
    "        return tf.image.crop_to_bounding_box(image, offset_height, offset_width, target_height, target_width)\n",
    "\n",
    "    def resize():\n",
    "        return tf.image.resize(image, [target_height, target_width])\n",
    "\n",
    "    image = tf.cond(\n",
    "        tf.logical_and(height >= target_height, width >= target_width),\n",
    "        true_fn=crop,\n",
    "        false_fn=resize\n",
    "    )\n",
    "    return image, label\n",
    "\n",
    "def one_hot_encode(image, label):\n",
    "    label = tf.one_hot(label, depth=classes_dim)\n",
    "    return image, label"
   ]
  },
  {
   "cell_type": "code",
   "execution_count": 21,
   "id": "8a074281-97c6-406d-8ab2-47a660ae0468",
   "metadata": {},
   "outputs": [
    {
     "name": "stdout",
     "output_type": "stream",
     "text": [
      "Found 41186 files belonging to 6 classes.\n",
      "Using 32949 files for training.\n",
      "Classes for training data: ['ANG', 'DIS', 'FEA', 'HAP', 'NEU', 'SAD']\n",
      "Found 41186 files belonging to 6 classes.\n",
      "Using 8237 files for validation.\n",
      "Classes for validation data: ['ANG', 'DIS', 'FEA', 'HAP', 'NEU', 'SAD']\n"
     ]
    }
   ],
   "source": [
    "\"\"\"\n",
    "Load data\n",
    "\"\"\"\n",
    "train = tf.keras.utils.image_dataset_from_directory(\n",
    "    SPECTROGRAMS_DIR,\n",
    "    validation_split=0.2,\n",
    "    subset='training',\n",
    "    image_size=(image_height, image_width),\n",
    "    batch_size=batch_size,\n",
    "    seed=123\n",
    ")\n",
    "print(f\"Classes for training data: {train.class_names}\")\n",
    "class_names = train.class_names\n",
    "train = train.map(one_hot_encode)\n",
    "\n",
    "valid = tf.keras.utils.image_dataset_from_directory(\n",
    "    SPECTROGRAMS_DIR,\n",
    "    validation_split=0.2,\n",
    "    subset='validation',\n",
    "    image_size=(image_height, image_width),\n",
    "    batch_size=batch_size,\n",
    "    seed=123\n",
    ")\n",
    "print(f\"Classes for validation data: {valid.class_names}\")\n",
    "valid = valid.map(one_hot_encode)"
   ]
  },
  {
   "cell_type": "code",
   "execution_count": 6,
   "id": "11690a1a-5e14-401d-bed7-c06815a96849",
   "metadata": {},
   "outputs": [
    {
     "name": "stdout",
     "output_type": "stream",
     "text": [
      "Model: \"model\"\n",
      "_________________________________________________________________\n",
      " Layer (type)                Output Shape              Param #   \n",
      "=================================================================\n",
      " input_1 (InputLayer)        [(None, 128, 128, 3)]     0         \n",
      "                                                                 \n",
      " resizing (Resizing)         (None, 128, 128, 3)       0         \n",
      "                                                                 \n",
      " rescaling (Rescaling)       (None, 128, 128, 3)       0         \n",
      "                                                                 \n",
      " conv2d (Conv2D)             (None, 128, 128, 16)      448       \n",
      "                                                                 \n",
      " conv2d_1 (Conv2D)           (None, 128, 128, 16)      2320      \n",
      "                                                                 \n",
      " max_pooling2d (MaxPooling2D  (None, 64, 64, 16)       0         \n",
      " )                                                               \n",
      "                                                                 \n",
      " conv2d_2 (Conv2D)           (None, 64, 64, 32)        4640      \n",
      "                                                                 \n",
      " conv2d_3 (Conv2D)           (None, 64, 64, 32)        9248      \n",
      "                                                                 \n",
      " max_pooling2d_1 (MaxPooling  (None, 32, 32, 32)       0         \n",
      " 2D)                                                             \n",
      "                                                                 \n",
      " conv2d_4 (Conv2D)           (None, 32, 32, 64)        18496     \n",
      "                                                                 \n",
      " conv2d_5 (Conv2D)           (None, 32, 32, 74)        42698     \n",
      "                                                                 \n",
      " max_pooling2d_2 (MaxPooling  (None, 16, 16, 74)       0         \n",
      " 2D)                                                             \n",
      "                                                                 \n",
      " conv2d_6 (Conv2D)           (None, 16, 16, 128)       85376     \n",
      "                                                                 \n",
      " conv2d_7 (Conv2D)           (None, 16, 16, 128)       147584    \n",
      "                                                                 \n",
      " max_pooling2d_3 (MaxPooling  (None, 8, 8, 128)        0         \n",
      " 2D)                                                             \n",
      "                                                                 \n",
      " flatten (Flatten)           (None, 8192)              0         \n",
      "                                                                 \n",
      " dense (Dense)               (None, 64)                524352    \n",
      "                                                                 \n",
      " dropout (Dropout)           (None, 64)                0         \n",
      "                                                                 \n",
      " dense_1 (Dense)             (None, 64)                4160      \n",
      "                                                                 \n",
      " dropout_1 (Dropout)         (None, 64)                0         \n",
      "                                                                 \n",
      " dense_2 (Dense)             (None, 6)                 390       \n",
      "                                                                 \n",
      "=================================================================\n",
      "Total params: 839,712\n",
      "Trainable params: 839,712\n",
      "Non-trainable params: 0\n",
      "_________________________________________________________________\n"
     ]
    }
   ],
   "source": [
    "\"\"\"\n",
    "Train custom model\n",
    "\"\"\"\n",
    "\n",
    "model_input = keras.Input(shape=(image_height, image_width, 3))\n",
    "x = model_input\n",
    "x = layers.Resizing(image_height, image_width)(x)\n",
    "x = layers.Rescaling(1.0 / 255)(x)\n",
    "\n",
    "x = layers.Conv2D(16, (3, 3), activation=\"relu\", padding=\"same\", kernel_initializer=\"he_normal\")(x)\n",
    "x = layers.Conv2D(16, (3, 3), activation=\"relu\", padding=\"same\", kernel_initializer=\"he_normal\")(x)\n",
    "x = layers.MaxPooling2D(pool_size=(2, 2))(x)\n",
    "\n",
    "x = layers.Conv2D(32, (3, 3), activation=\"relu\", padding=\"same\", kernel_initializer=\"he_normal\")(x)\n",
    "x = layers.Conv2D(32, (3, 3), activation=\"relu\", padding=\"same\", kernel_initializer=\"he_normal\")(x)\n",
    "x = layers.MaxPooling2D(pool_size=(2, 2))(x)\n",
    "\n",
    "x = layers.Conv2D(64, (3, 3), activation=\"relu\", padding=\"same\", kernel_initializer=\"he_normal\")(x)\n",
    "x = layers.Conv2D(74, (3, 3), activation=\"relu\", padding=\"same\", kernel_initializer=\"he_normal\")(x)\n",
    "x = layers.MaxPooling2D(pool_size=(2, 2))(x)\n",
    "\n",
    "x = layers.Conv2D(128, (3, 3), activation=\"relu\", padding=\"same\", kernel_initializer=\"he_normal\")(x)\n",
    "x = layers.Conv2D(128, (3, 3), activation=\"relu\", padding=\"same\", kernel_initializer=\"he_normal\")(x)\n",
    "x = layers.MaxPooling2D(pool_size=(2, 2))(x)\n",
    "\n",
    "x = layers.Flatten()(x)\n",
    "x = layers.Dense(64, activation=\"relu\", kernel_initializer=\"he_normal\")(x)\n",
    "x = layers.Dropout(0.25)(x)\n",
    "x = layers.Dense(64, activation=\"relu\", kernel_initializer=\"he_normal\")(x)\n",
    "x = layers.Dropout(0.25)(x)\n",
    "\n",
    "model_output = layers.Dense(classes_dim, activation=\"softmax\")(x)\n",
    "custom_model = keras.Model(inputs=model_input, outputs=model_output)\n",
    "custom_model.compile(\n",
    "    optimizer=tf.keras.optimizers.Adam(learning_rate=base_learning_rate),\n",
    "    loss=\"categorical_crossentropy\",\n",
    "    metrics=[\"accuracy\"]\n",
    ")\n",
    "custom_model.summary()"
   ]
  },
  {
   "cell_type": "code",
   "execution_count": 7,
   "id": "96c7da0c-859d-4dc9-81b4-8b8a0743431e",
   "metadata": {},
   "outputs": [
    {
     "name": "stdout",
     "output_type": "stream",
     "text": [
      "Epoch 1/60\n",
      "1030/1030 [==============================] - 42s 30ms/step - loss: 1.6380 - accuracy: 0.2979 - val_loss: 1.4072 - val_accuracy: 0.4333\n",
      "Epoch 2/60\n",
      "1030/1030 [==============================] - 48s 47ms/step - loss: 1.3496 - accuracy: 0.4541 - val_loss: 1.1549 - val_accuracy: 0.5521\n",
      "Epoch 3/60\n",
      "1030/1030 [==============================] - 44s 42ms/step - loss: 1.1896 - accuracy: 0.5293 - val_loss: 1.0595 - val_accuracy: 0.5871\n",
      "Epoch 4/60\n",
      "1030/1030 [==============================] - 48s 46ms/step - loss: 1.0903 - accuracy: 0.5734 - val_loss: 1.0133 - val_accuracy: 0.6143\n",
      "Epoch 5/60\n",
      "1030/1030 [==============================] - 43s 42ms/step - loss: 1.0075 - accuracy: 0.6053 - val_loss: 0.8907 - val_accuracy: 0.6578\n",
      "Epoch 6/60\n",
      "1030/1030 [==============================] - 45s 44ms/step - loss: 0.9346 - accuracy: 0.6380 - val_loss: 0.8731 - val_accuracy: 0.6725\n",
      "Epoch 7/60\n",
      "1030/1030 [==============================] - 50s 49ms/step - loss: 0.8624 - accuracy: 0.6699 - val_loss: 0.8041 - val_accuracy: 0.6959\n",
      "Epoch 8/60\n",
      "1030/1030 [==============================] - 48s 46ms/step - loss: 0.7884 - accuracy: 0.6984 - val_loss: 0.7519 - val_accuracy: 0.7210\n",
      "Epoch 9/60\n",
      "1030/1030 [==============================] - 45s 43ms/step - loss: 0.7302 - accuracy: 0.7209 - val_loss: 0.7021 - val_accuracy: 0.7408\n",
      "Epoch 10/60\n",
      "1030/1030 [==============================] - 48s 47ms/step - loss: 0.6752 - accuracy: 0.7431 - val_loss: 0.6879 - val_accuracy: 0.7500\n",
      "Epoch 11/60\n",
      "1030/1030 [==============================] - 46s 44ms/step - loss: 0.6290 - accuracy: 0.7591 - val_loss: 0.6471 - val_accuracy: 0.7661\n",
      "Epoch 12/60\n",
      "1030/1030 [==============================] - 45s 43ms/step - loss: 0.5993 - accuracy: 0.7699 - val_loss: 0.5868 - val_accuracy: 0.7865\n",
      "Epoch 13/60\n",
      "1030/1030 [==============================] - 45s 44ms/step - loss: 0.5499 - accuracy: 0.7919 - val_loss: 0.5985 - val_accuracy: 0.7771\n",
      "Epoch 14/60\n",
      "1030/1030 [==============================] - 49s 47ms/step - loss: 0.5175 - accuracy: 0.8048 - val_loss: 0.5699 - val_accuracy: 0.7957\n",
      "Epoch 15/60\n",
      "1030/1030 [==============================] - 46s 44ms/step - loss: 0.4871 - accuracy: 0.8166 - val_loss: 0.5156 - val_accuracy: 0.8112\n",
      "Epoch 16/60\n",
      "1030/1030 [==============================] - 46s 44ms/step - loss: 0.4640 - accuracy: 0.8263 - val_loss: 0.5273 - val_accuracy: 0.8140\n",
      "Epoch 17/60\n",
      "1030/1030 [==============================] - 47s 45ms/step - loss: 0.4358 - accuracy: 0.8373 - val_loss: 0.4965 - val_accuracy: 0.8231\n",
      "Epoch 18/60\n",
      "1030/1030 [==============================] - 50s 48ms/step - loss: 0.4202 - accuracy: 0.8453 - val_loss: 0.5083 - val_accuracy: 0.8260\n",
      "Epoch 19/60\n",
      "1030/1030 [==============================] - 46s 45ms/step - loss: 0.3933 - accuracy: 0.8557 - val_loss: 0.4861 - val_accuracy: 0.8349\n",
      "Epoch 20/60\n",
      "1030/1030 [==============================] - 46s 44ms/step - loss: 0.3854 - accuracy: 0.8579 - val_loss: 0.4699 - val_accuracy: 0.8385\n",
      "Epoch 21/60\n",
      "1030/1030 [==============================] - 46s 44ms/step - loss: 0.3673 - accuracy: 0.8672 - val_loss: 0.4428 - val_accuracy: 0.8537\n",
      "Epoch 22/60\n",
      "1030/1030 [==============================] - 44s 43ms/step - loss: 0.3508 - accuracy: 0.8741 - val_loss: 0.4115 - val_accuracy: 0.8651\n",
      "Epoch 23/60\n",
      "1030/1030 [==============================] - 45s 44ms/step - loss: 0.3293 - accuracy: 0.8802 - val_loss: 0.4027 - val_accuracy: 0.8663\n",
      "Epoch 24/60\n",
      "1030/1030 [==============================] - 48s 47ms/step - loss: 0.3179 - accuracy: 0.8877 - val_loss: 0.4091 - val_accuracy: 0.8598\n",
      "Epoch 25/60\n",
      "1030/1030 [==============================] - 44s 43ms/step - loss: 0.3106 - accuracy: 0.8900 - val_loss: 0.4118 - val_accuracy: 0.8682\n",
      "Epoch 26/60\n",
      "1030/1030 [==============================] - 49s 47ms/step - loss: 0.2883 - accuracy: 0.8993 - val_loss: 0.3748 - val_accuracy: 0.8790\n",
      "Epoch 27/60\n",
      "1030/1030 [==============================] - 48s 46ms/step - loss: 0.2798 - accuracy: 0.9015 - val_loss: 0.3829 - val_accuracy: 0.8784\n",
      "Epoch 28/60\n",
      "1030/1030 [==============================] - 48s 46ms/step - loss: 0.2646 - accuracy: 0.9063 - val_loss: 0.3669 - val_accuracy: 0.8833\n",
      "Epoch 29/60\n",
      "1030/1030 [==============================] - 43s 42ms/step - loss: 0.2588 - accuracy: 0.9083 - val_loss: 0.3724 - val_accuracy: 0.8798\n",
      "Epoch 30/60\n",
      "1030/1030 [==============================] - 42s 41ms/step - loss: 0.2504 - accuracy: 0.9122 - val_loss: 0.3403 - val_accuracy: 0.8860\n",
      "Epoch 31/60\n",
      "1030/1030 [==============================] - 47s 46ms/step - loss: 0.2436 - accuracy: 0.9163 - val_loss: 0.3877 - val_accuracy: 0.8799\n",
      "Epoch 32/60\n",
      "1030/1030 [==============================] - 44s 42ms/step - loss: 0.2262 - accuracy: 0.9208 - val_loss: 0.3411 - val_accuracy: 0.8889\n",
      "Epoch 33/60\n",
      "1030/1030 [==============================] - 48s 47ms/step - loss: 0.2170 - accuracy: 0.9246 - val_loss: 0.3848 - val_accuracy: 0.8824\n",
      "Epoch 34/60\n",
      "1030/1030 [==============================] - 48s 46ms/step - loss: 0.2231 - accuracy: 0.9235 - val_loss: 0.3179 - val_accuracy: 0.9001\n",
      "Epoch 35/60\n",
      "1030/1030 [==============================] - 44s 42ms/step - loss: 0.2139 - accuracy: 0.9253 - val_loss: 0.3755 - val_accuracy: 0.8797\n",
      "Epoch 36/60\n",
      "1030/1030 [==============================] - 48s 47ms/step - loss: 0.2077 - accuracy: 0.9300 - val_loss: 0.3485 - val_accuracy: 0.8870\n",
      "Epoch 37/60\n",
      "1030/1030 [==============================] - 47s 45ms/step - loss: 0.1972 - accuracy: 0.9329 - val_loss: 0.3467 - val_accuracy: 0.8945\n",
      "Epoch 38/60\n",
      "1030/1030 [==============================] - 41s 40ms/step - loss: 0.1929 - accuracy: 0.9354 - val_loss: 0.3413 - val_accuracy: 0.8947\n",
      "Epoch 39/60\n",
      "1030/1030 [==============================] - 44s 43ms/step - loss: 0.1982 - accuracy: 0.9327 - val_loss: 0.3129 - val_accuracy: 0.9043\n",
      "Epoch 40/60\n",
      "1030/1030 [==============================] - 48s 46ms/step - loss: 0.1794 - accuracy: 0.9405 - val_loss: 0.2985 - val_accuracy: 0.9042\n",
      "Epoch 41/60\n",
      "1030/1030 [==============================] - 44s 42ms/step - loss: 0.1732 - accuracy: 0.9425 - val_loss: 0.3241 - val_accuracy: 0.9025\n",
      "Epoch 42/60\n",
      "1030/1030 [==============================] - 48s 46ms/step - loss: 0.1733 - accuracy: 0.9426 - val_loss: 0.2812 - val_accuracy: 0.9165\n",
      "Epoch 43/60\n",
      "1030/1030 [==============================] - 43s 42ms/step - loss: 0.1653 - accuracy: 0.9450 - val_loss: 0.3274 - val_accuracy: 0.9065\n",
      "Epoch 44/60\n",
      "1030/1030 [==============================] - 49s 47ms/step - loss: 0.1587 - accuracy: 0.9468 - val_loss: 0.3131 - val_accuracy: 0.9052\n",
      "Epoch 45/60\n",
      "1030/1030 [==============================] - 44s 42ms/step - loss: 0.1561 - accuracy: 0.9484 - val_loss: 0.2734 - val_accuracy: 0.9187\n",
      "Epoch 46/60\n",
      "1030/1030 [==============================] - 44s 43ms/step - loss: 0.1643 - accuracy: 0.9461 - val_loss: 0.2652 - val_accuracy: 0.9185\n",
      "Epoch 47/60\n",
      "1030/1030 [==============================] - 44s 43ms/step - loss: 0.1448 - accuracy: 0.9522 - val_loss: 0.2980 - val_accuracy: 0.9082\n",
      "Epoch 48/60\n",
      "1030/1030 [==============================] - 63s 61ms/step - loss: 0.1418 - accuracy: 0.9539 - val_loss: 0.2734 - val_accuracy: 0.9199\n",
      "Epoch 49/60\n",
      "1030/1030 [==============================] - 48s 46ms/step - loss: 0.1480 - accuracy: 0.9517 - val_loss: 0.2680 - val_accuracy: 0.9184\n",
      "Epoch 50/60\n",
      "1030/1030 [==============================] - 43s 42ms/step - loss: 0.1322 - accuracy: 0.9557 - val_loss: 0.2742 - val_accuracy: 0.9213\n",
      "Epoch 51/60\n",
      "1030/1030 [==============================] - 44s 43ms/step - loss: 0.1408 - accuracy: 0.9536 - val_loss: 0.2405 - val_accuracy: 0.9278\n",
      "Epoch 52/60\n",
      "1030/1030 [==============================] - 49s 47ms/step - loss: 0.1390 - accuracy: 0.9554 - val_loss: 0.2630 - val_accuracy: 0.9223\n",
      "Epoch 53/60\n",
      "1030/1030 [==============================] - 43s 42ms/step - loss: 0.1325 - accuracy: 0.9574 - val_loss: 0.2620 - val_accuracy: 0.9194\n",
      "Epoch 54/60\n",
      "1030/1030 [==============================] - 48s 46ms/step - loss: 0.1241 - accuracy: 0.9591 - val_loss: 0.2622 - val_accuracy: 0.9199\n",
      "Epoch 55/60\n",
      "1030/1030 [==============================] - 43s 42ms/step - loss: 0.1270 - accuracy: 0.9601 - val_loss: 0.2506 - val_accuracy: 0.9202\n",
      "Epoch 56/60\n",
      "1030/1030 [==============================] - 36s 34ms/step - loss: 0.1203 - accuracy: 0.9603 - val_loss: 0.2694 - val_accuracy: 0.9134\n",
      "Epoch 57/60\n",
      "1030/1030 [==============================] - 18s 18ms/step - loss: 0.1247 - accuracy: 0.9595 - val_loss: 0.2868 - val_accuracy: 0.9147\n",
      "Epoch 58/60\n",
      "1030/1030 [==============================] - 29s 28ms/step - loss: 0.1128 - accuracy: 0.9632 - val_loss: 0.2524 - val_accuracy: 0.9251\n",
      "Epoch 59/60\n",
      "1030/1030 [==============================] - 43s 42ms/step - loss: 0.1144 - accuracy: 0.9631 - val_loss: 0.2882 - val_accuracy: 0.9150\n",
      "Epoch 60/60\n",
      "1030/1030 [==============================] - 43s 42ms/step - loss: 0.1188 - accuracy: 0.9636 - val_loss: 0.3173 - val_accuracy: 0.9051\n"
     ]
    },
    {
     "data": {
      "image/png": "[encoded data removed]",
      "text/plain": [
       "<Figure size 640x480 with 1 Axes>"
      ]
     },
     "metadata": {},
     "output_type": "display_data"
    }
   ],
   "source": [
    "\"\"\"\n",
    "Train model\n",
    "\"\"\"\n",
    "history_custom = custom_model.fit(train, validation_data=valid, epochs=epochs_total)\n",
    "\n",
    "plt.plot(history_custom.history[\"accuracy\"], label=\"accuracy\")\n",
    "plt.plot(history_custom.history[\"val_accuracy\"], label=\"val_accuracy\")\n",
    "plt.xlabel(\"Epoch\")\n",
    "plt.ylabel(\"Accuracy\")\n",
    "plt.legend()\n",
    "plt.show()"
   ]
  },
  {
   "cell_type": "code",
   "execution_count": 8,
   "id": "777c0228-62c6-4005-b086-a9ed5c07d8c2",
   "metadata": {},
   "outputs": [
    {
     "name": "stderr",
     "output_type": "stream",
     "text": [
      "WARNING:absl:Found untraced functions such as _jit_compiled_convolution_op, _jit_compiled_convolution_op, _jit_compiled_convolution_op, _jit_compiled_convolution_op, _jit_compiled_convolution_op while saving (showing 5 of 8). These functions will not be directly callable after loading.\n"
     ]
    },
    {
     "name": "stdout",
     "output_type": "stream",
     "text": [
      "INFO:tensorflow:Assets written to: ../data/models_tf/DemooNet_8c_3d_60e_32b\\assets\n"
     ]
    },
    {
     "name": "stderr",
     "output_type": "stream",
     "text": [
      "INFO:tensorflow:Assets written to: ../data/models_tf/DemooNet_8c_3d_60e_32b\\assets\n"
     ]
    }
   ],
   "source": [
    "\"\"\"\n",
    "Save model\n",
    "\"\"\"\n",
    "custom_model.save(f\"{TF_MODELS_DIR}/{model_name}\")"
   ]
  },
  {
   "cell_type": "code",
   "execution_count": 7,
   "id": "8eb6b5a2",
   "metadata": {},
   "outputs": [],
   "source": [
    "\"\"\"\n",
    "Convert SavedModel (TensorFlow) to .tflite\n",
    "\"\"\"\n",
    "converter = tf.lite.TFLiteConverter.from_saved_model(f\"{TF_MODELS_DIR}/{model_name}\")\n",
    "converter.experimental_new_converter = True\n",
    "converter.target_spec.supported_ops = [tf.lite.OpsSet.TFLITE_BUILTINS]\n",
    "converter.allow_custom_ops = False\n",
    "converter.optimizations = [tf.lite.Optimize.DEFAULT]\n",
    "tflite_model = converter.convert()\n",
    "\n",
    "with open(f\"{TFLITE_MODELS_DIR}/{model_name}.tflite\", \"wb\") as f:\n",
    "  f.write(tflite_model)"
   ]
  },
  {
   "cell_type": "code",
   "execution_count": 22,
   "id": "3d71f5a8-44a4-49ad-94ea-879fd29577d6",
   "metadata": {},
   "outputs": [
    {
     "name": "stdout",
     "output_type": "stream",
     "text": [
      "258/258 [==============================] - 62s 239ms/step\n"
     ]
    },
    {
     "data": {
      "image/png": "[encoded data removed]",
      "text/plain": [
       "<Figure size 640x480 with 2 Axes>"
      ]
     },
     "metadata": {},
     "output_type": "display_data"
    }
   ],
   "source": [
    "\"\"\"\n",
    "Confusion Matrix\n",
    "\"\"\"\n",
    "from sklearn.metrics import confusion_matrix, ConfusionMatrixDisplay\n",
    "import matplotlib.pyplot as plt\n",
    "\n",
    "loaded_model = keras.models.load_model(f\"{TF_MODELS_DIR}/{model_name}\")\n",
    "\n",
    "X_val = []\n",
    "y_val = []\n",
    "\n",
    "for images, labels in valid:\n",
    "    X_val.append(images.numpy())\n",
    "    y_val.append(labels.numpy())\n",
    "X_val = np.vstack(X_val)\n",
    "y_val = np.vstack(y_val)\n",
    "\n",
    "y_true = np.argmax(y_val, axis=1)\n",
    "y_pred_probs = loaded_model.predict(X_val)\n",
    "y_pred = np.argmax(y_pred_probs, axis=1)\n",
    "\n",
    "cm = confusion_matrix(y_true, y_pred)\n",
    "disp = ConfusionMatrixDisplay(confusion_matrix=cm, display_labels=class_names)\n",
    "disp.plot(cmap=\"Blues\", xticks_rotation=45)\n",
    "plt.title(\"Confusion Matrix - Validation Set\")\n",
    "plt.show()"
   ]
  },
  {
   "cell_type": "code",
   "execution_count": null,
   "id": "677e640b-202a-4e77-9514-71f76fd3c1c9",
   "metadata": {},
   "outputs": [],
   "source": []
  }
 ],
 "metadata": {
  "kernelspec": {
   "display_name": "Python 3 (ipykernel)",
   "language": "python",
   "name": "python3"
  },
  "language_info": {
   "codemirror_mode": {
    "name": "ipython",
    "version": 3
   },
   "file_extension": ".py",
   "mimetype": "text/x-python",
   "name": "python",
   "nbconvert_exporter": "python",
   "pygments_lexer": "ipython3",
   "version": "3.8.20"
  }
 },
 "nbformat": 4,
 "nbformat_minor": 5
}
