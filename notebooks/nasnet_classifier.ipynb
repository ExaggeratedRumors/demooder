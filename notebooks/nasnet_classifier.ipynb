{
 "cells": [
  {
   "cell_type": "code",
   "execution_count": 1,
   "id": "d6ea65a4",
   "metadata": {},
   "outputs": [
    {
     "name": "stdout",
     "output_type": "stream",
     "text": [
      "Python:\t3.8.20 (default, Oct  3 2024, 15:19:54) [MSC v.1929 64 bit (AMD64)]\n",
      "Numpy:\t\t1.23.3\n",
      "Tensorflow:\t2.10.0\n",
      "Keras:\t\t2.10.0\n"
     ]
    }
   ],
   "source": [
    "\"\"\"\n",
    "Imports\n",
    "\"\"\"\n",
    "import sys\n",
    "print(f\"Python:\\t{sys.version}\")\n",
    "import numpy as np\n",
    "print(f\"Numpy:\\t\\t{np.__version__}\")\n",
    "import tensorflow as tf\n",
    "print(f\"Tensorflow:\\t{tf.__version__}\")\n",
    "import keras\n",
    "print(f\"Keras:\\t\\t{keras.__version__}\")\n",
    "\n",
    "import os\n",
    "import matplotlib.pyplot as plt\n",
    "from keras import Sequential\n",
    "from keras import layers\n",
    "from keras.applications import NASNetMobile # https://keras.io/api/applications/nasnet/#nasnetmobile-function"
   ]
  },
  {
   "cell_type": "code",
   "execution_count": 2,
   "id": "6c8090a2",
   "metadata": {},
   "outputs": [],
   "source": [
    "\"\"\"\n",
    "Options\n",
    "\"\"\"\n",
    "model_name = \"NasNet_70ftfl_60e_32b\"\n",
    "\n",
    "image_width = 128\n",
    "image_height = 128\n",
    "channels_dim = 3\n",
    "classes_dim = 6\n",
    "batch_size = 32\n",
    "\n",
    "validation_split = 0.2\n",
    "fine_tuning_frozen_layers = 0.7\n",
    "base_learning_rate = 0.001\n",
    "epochs_pretraining = 10\n",
    "epochs_total = 60\n",
    "\n",
    "shape = (image_height, image_width, channels_dim)"
   ]
  },
  {
   "cell_type": "code",
   "execution_count": 3,
   "id": "6565d2c9",
   "metadata": {},
   "outputs": [],
   "source": [
    "\"\"\"\n",
    "Pathing\n",
    "\"\"\"\n",
    "SPECTROGRAMS_DIR = \"../data/spectrograms/combined\"\n",
    "TF_MODELS_DIR = \"../data/models_tf\"\n",
    "TFLITE_MODELS_DIR = \"../data/models_tflite\""
   ]
  },
  {
   "cell_type": "code",
   "execution_count": 4,
   "id": "8a074281-97c6-406d-8ab2-47a660ae0468",
   "metadata": {},
   "outputs": [
    {
     "name": "stdout",
     "output_type": "stream",
     "text": [
      "Found 29768 files belonging to 6 classes.\n",
      "Using 23815 files for training.\n",
      "Found 29768 files belonging to 6 classes.\n",
      "Using 5953 files for validation.\n"
     ]
    }
   ],
   "source": [
    "\"\"\"\n",
    "Load data\n",
    "\"\"\"\n",
    "train = tf.keras.utils.image_dataset_from_directory(\n",
    "    SPECTROGRAMS_DIR,\n",
    "    validation_split=0.2,\n",
    "    subset='training',\n",
    "    image_size=(image_height, image_width),\n",
    "    batch_size=batch_size,\n",
    "    seed=123\n",
    ")\n",
    "\n",
    "valid = tf.keras.utils.image_dataset_from_directory(\n",
    "    SPECTROGRAMS_DIR,\n",
    "    validation_split=0.2,\n",
    "    subset='validation',\n",
    "    image_size=(image_height, image_width),\n",
    "    batch_size=batch_size,\n",
    "    seed=123\n",
    ")\n",
    "\n",
    "def one_hot_encode(image, label):\n",
    "    label = tf.one_hot(label, depth=classes_dim)\n",
    "    return image, label\n",
    "\n",
    "train = train.map(one_hot_encode)\n",
    "valid = valid.map(one_hot_encode)\n",
    "\n"
   ]
  },
  {
   "cell_type": "code",
   "execution_count": 6,
   "id": "5e117090-be5c-4c8f-a237-46cbc197d235",
   "metadata": {},
   "outputs": [
    {
     "name": "stdout",
     "output_type": "stream",
     "text": [
      "Downloading data from https://storage.googleapis.com/tensorflow/keras-applications/nasnet/NASNet-mobile-no-top.h5\n",
      "19993432/19993432 [==============================] - 1s 0us/step\n",
      "Model: \"model\"\n",
      "_________________________________________________________________\n",
      " Layer (type)                Output Shape              Param #   \n",
      "=================================================================\n",
      " input_1 (InputLayer)        [(None, None, None, 3)]   0         \n",
      "                                                                 \n",
      " resizing (Resizing)         (None, 128, 128, 3)       0         \n",
      "                                                                 \n",
      " rescaling (Rescaling)       (None, 128, 128, 3)       0         \n",
      "                                                                 \n",
      " NASNet (Functional)         (None, 4, 4, 1056)        4269716   \n",
      "                                                                 \n",
      " global_average_pooling2d (G  (None, 1056)             0         \n",
      " lobalAveragePooling2D)                                          \n",
      "                                                                 \n",
      " dense (Dense)               (None, 128)               135296    \n",
      "                                                                 \n",
      " dropout (Dropout)           (None, 128)               0         \n",
      "                                                                 \n",
      " dense_1 (Dense)             (None, 6)                 774       \n",
      "                                                                 \n",
      "=================================================================\n",
      "Total params: 4,405,786\n",
      "Trainable params: 136,070\n",
      "Non-trainable params: 4,269,716\n",
      "_________________________________________________________________\n"
     ]
    }
   ],
   "source": [
    "\"\"\"\n",
    "Build NasNet model\n",
    "\"\"\"\n",
    "\n",
    "tf.keras.backend.clear_session()\n",
    "\n",
    "# Preprocessing\n",
    "model_input = keras.Input(shape=(None, None, 3))\n",
    "x = model_input\n",
    "x = layers.Resizing(image_height, image_width)(x)\n",
    "x = layers.Rescaling(1.0 / 255)(x)\n",
    "\n",
    "# NasNet\n",
    "nasnet = NASNetMobile(\n",
    "    input_shape=shape,\n",
    "    include_top=False,\n",
    "    weights=\"imagenet\",\n",
    "    input_tensor=None,\n",
    "    pooling=None,\n",
    "    classes=classes_dim,\n",
    "    classifier_activation=\"softmax\"\n",
    ")\n",
    "\n",
    "nasnet.trainable = False\n",
    "x = nasnet(x, training=False)\n",
    "x = layers.GlobalAveragePooling2D()(x)\n",
    "x = layers.Dense(128, activation=\"relu\")(x)\n",
    "x = layers.Dropout(0.25)(x)\n",
    "nasnet_output = layers.Dense(classes_dim, activation=\"softmax\")(x)\n",
    "\n",
    "nasnet_model = keras.Model(model_input, nasnet_output)\n",
    "nasnet_model.compile(\n",
    "    optimizer=tf.keras.optimizers.Adam(learning_rate=base_learning_rate),\n",
    "    loss=\"categorical_crossentropy\",\n",
    "    metrics=[\"accuracy\"]\n",
    ")\n",
    "nasnet_model.summary()"
   ]
  },
  {
   "cell_type": "code",
   "execution_count": 7,
   "id": "062bf6b0-83a2-497c-87dc-4369db084719",
   "metadata": {},
   "outputs": [
    {
     "name": "stdout",
     "output_type": "stream",
     "text": [
      "Epoch 1/10\n",
      "745/745 [==============================] - 94s 91ms/step - loss: 1.5014 - accuracy: 0.3834 - val_loss: 1.4187 - val_accuracy: 0.4315\n",
      "Epoch 2/10\n",
      "745/745 [==============================] - 60s 81ms/step - loss: 1.4146 - accuracy: 0.4253 - val_loss: 1.3938 - val_accuracy: 0.4379\n",
      "Epoch 3/10\n",
      "745/745 [==============================] - 60s 80ms/step - loss: 1.3773 - accuracy: 0.4459 - val_loss: 1.3728 - val_accuracy: 0.4500\n",
      "Epoch 4/10\n",
      "745/745 [==============================] - 60s 81ms/step - loss: 1.3536 - accuracy: 0.4531 - val_loss: 1.3597 - val_accuracy: 0.4547\n",
      "Epoch 5/10\n",
      "745/745 [==============================] - 60s 80ms/step - loss: 1.3284 - accuracy: 0.4640 - val_loss: 1.3458 - val_accuracy: 0.4618\n",
      "Epoch 6/10\n",
      "745/745 [==============================] - 59s 80ms/step - loss: 1.3063 - accuracy: 0.4771 - val_loss: 1.3390 - val_accuracy: 0.4653\n",
      "Epoch 7/10\n",
      "745/745 [==============================] - 60s 80ms/step - loss: 1.2858 - accuracy: 0.4845 - val_loss: 1.3317 - val_accuracy: 0.4712\n",
      "Epoch 8/10\n",
      "745/745 [==============================] - 64s 86ms/step - loss: 1.2652 - accuracy: 0.4921 - val_loss: 1.3301 - val_accuracy: 0.4724\n",
      "Epoch 9/10\n",
      "745/745 [==============================] - 63s 84ms/step - loss: 1.2464 - accuracy: 0.5013 - val_loss: 1.3270 - val_accuracy: 0.4764\n",
      "Epoch 10/10\n",
      "745/745 [==============================] - 65s 87ms/step - loss: 1.2231 - accuracy: 0.5125 - val_loss: 1.3315 - val_accuracy: 0.4729\n"
     ]
    },
    {
     "data": {
      "image/png": "[encoded data removed]",
      "text/plain": [
       "<Figure size 640x480 with 1 Axes>"
      ]
     },
     "metadata": {},
     "output_type": "display_data"
    }
   ],
   "source": [
    "\"\"\"\n",
    "Train model\n",
    "\"\"\"\n",
    "\n",
    "history_pretraining = nasnet_model.fit(train, validation_data=valid, epochs=epochs_pretraining)\n",
    "\n",
    "plt.plot(history_pretraining.history['accuracy'], label='accuracy')\n",
    "plt.plot(history_pretraining.history['val_accuracy'], label='val_accuracy')\n",
    "plt.xlabel('Epoch')\n",
    "plt.ylabel('Accuracy')\n",
    "plt.legend()\n",
    "plt.show()"
   ]
  },
  {
   "cell_type": "code",
   "execution_count": 8,
   "id": "39e72c24-38d1-4b05-89af-d19c2e529395",
   "metadata": {
    "scrolled": true
   },
   "outputs": [
    {
     "name": "stdout",
     "output_type": "stream",
     "text": [
      "Model: \"model\"\n",
      "_________________________________________________________________\n",
      " Layer (type)                Output Shape              Param #   \n",
      "=================================================================\n",
      " input_1 (InputLayer)        [(None, None, None, 3)]   0         \n",
      "                                                                 \n",
      " resizing (Resizing)         (None, 128, 128, 3)       0         \n",
      "                                                                 \n",
      " rescaling (Rescaling)       (None, 128, 128, 3)       0         \n",
      "                                                                 \n",
      " NASNet (Functional)         (None, 4, 4, 1056)        4269716   \n",
      "                                                                 \n",
      " global_average_pooling2d (G  (None, 1056)             0         \n",
      " lobalAveragePooling2D)                                          \n",
      "                                                                 \n",
      " dense (Dense)               (None, 128)               135296    \n",
      "                                                                 \n",
      " dropout (Dropout)           (None, 128)               0         \n",
      "                                                                 \n",
      " dense_1 (Dense)             (None, 6)                 774       \n",
      "                                                                 \n",
      "=================================================================\n",
      "Total params: 4,405,786\n",
      "Trainable params: 3,138,982\n",
      "Non-trainable params: 1,266,804\n",
      "_________________________________________________________________\n",
      "Epoch 10/60\n",
      "745/745 [==============================] - 182s 200ms/step - loss: 1.4316 - accuracy: 0.4228 - val_loss: 1.4413 - val_accuracy: 0.4062\n",
      "Epoch 11/60\n",
      "745/745 [==============================] - 141s 189ms/step - loss: 1.2886 - accuracy: 0.4882 - val_loss: 1.4428 - val_accuracy: 0.4265\n",
      "Epoch 12/60\n",
      "745/745 [==============================] - 141s 189ms/step - loss: 1.1992 - accuracy: 0.5317 - val_loss: 1.2775 - val_accuracy: 0.4967\n",
      "Epoch 13/60\n",
      "745/745 [==============================] - 140s 188ms/step - loss: 1.1234 - accuracy: 0.5634 - val_loss: 1.3794 - val_accuracy: 0.5009\n",
      "Epoch 14/60\n",
      "745/745 [==============================] - 139s 187ms/step - loss: 1.0442 - accuracy: 0.5970 - val_loss: 1.3072 - val_accuracy: 0.5453\n",
      "Epoch 15/60\n",
      "745/745 [==============================] - 142s 191ms/step - loss: 0.9722 - accuracy: 0.6264 - val_loss: 1.1520 - val_accuracy: 0.5696\n",
      "Epoch 16/60\n",
      "745/745 [==============================] - 144s 193ms/step - loss: 0.8981 - accuracy: 0.6582 - val_loss: 1.0908 - val_accuracy: 0.6019\n",
      "Epoch 17/60\n",
      "745/745 [==============================] - 144s 193ms/step - loss: 0.8281 - accuracy: 0.6872 - val_loss: 1.4848 - val_accuracy: 0.4917\n",
      "Epoch 18/60\n",
      "745/745 [==============================] - 141s 189ms/step - loss: 0.7591 - accuracy: 0.7130 - val_loss: 2.0815 - val_accuracy: 0.4734\n",
      "Epoch 19/60\n",
      "745/745 [==============================] - 145s 195ms/step - loss: 0.7045 - accuracy: 0.7359 - val_loss: 1.1001 - val_accuracy: 0.6254\n",
      "Epoch 20/60\n",
      "745/745 [==============================] - 142s 190ms/step - loss: 0.6416 - accuracy: 0.7617 - val_loss: 1.2325 - val_accuracy: 0.6121\n",
      "Epoch 21/60\n",
      "745/745 [==============================] - 142s 191ms/step - loss: 0.5892 - accuracy: 0.7806 - val_loss: 1.2557 - val_accuracy: 0.6242\n",
      "Epoch 22/60\n",
      "745/745 [==============================] - 143s 191ms/step - loss: 0.5369 - accuracy: 0.8034 - val_loss: 1.4474 - val_accuracy: 0.5701\n",
      "Epoch 23/60\n",
      "745/745 [==============================] - 144s 194ms/step - loss: 0.5069 - accuracy: 0.8156 - val_loss: 1.3408 - val_accuracy: 0.6360\n",
      "Epoch 24/60\n",
      "745/745 [==============================] - 145s 195ms/step - loss: 0.4626 - accuracy: 0.8319 - val_loss: 2.8445 - val_accuracy: 0.5216\n",
      "Epoch 25/60\n",
      "745/745 [==============================] - 140s 188ms/step - loss: 0.4326 - accuracy: 0.8486 - val_loss: 1.3849 - val_accuracy: 0.6666\n",
      "Epoch 26/60\n",
      "745/745 [==============================] - 141s 189ms/step - loss: 0.4021 - accuracy: 0.8589 - val_loss: 1.2127 - val_accuracy: 0.6837\n",
      "Epoch 27/60\n",
      "745/745 [==============================] - 141s 189ms/step - loss: 0.3731 - accuracy: 0.8692 - val_loss: 1.1153 - val_accuracy: 0.6565\n",
      "Epoch 28/60\n",
      "745/745 [==============================] - 145s 194ms/step - loss: 0.3592 - accuracy: 0.8756 - val_loss: 1.6507 - val_accuracy: 0.6281\n",
      "Epoch 29/60\n",
      "745/745 [==============================] - 151s 202ms/step - loss: 0.3395 - accuracy: 0.8800 - val_loss: 1.5514 - val_accuracy: 0.6420\n",
      "Epoch 30/60\n",
      "745/745 [==============================] - 146s 196ms/step - loss: 0.3279 - accuracy: 0.8923 - val_loss: 1.5090 - val_accuracy: 0.6692\n",
      "Epoch 31/60\n",
      "745/745 [==============================] - 142s 190ms/step - loss: 0.3065 - accuracy: 0.8967 - val_loss: 2.0463 - val_accuracy: 0.6200\n",
      "Epoch 32/60\n",
      "745/745 [==============================] - 154s 206ms/step - loss: 0.3037 - accuracy: 0.8967 - val_loss: 1.4650 - val_accuracy: 0.6383\n",
      "Epoch 33/60\n",
      "745/745 [==============================] - 145s 194ms/step - loss: 0.2968 - accuracy: 0.9004 - val_loss: 1.9286 - val_accuracy: 0.6341\n",
      "Epoch 34/60\n",
      "745/745 [==============================] - 147s 197ms/step - loss: 0.2932 - accuracy: 0.9034 - val_loss: 1.3300 - val_accuracy: 0.6701\n",
      "Epoch 35/60\n",
      "745/745 [==============================] - 147s 197ms/step - loss: 0.3080 - accuracy: 0.9092 - val_loss: 1.3934 - val_accuracy: 0.6644\n",
      "Epoch 36/60\n",
      "745/745 [==============================] - 140s 187ms/step - loss: 0.2946 - accuracy: 0.9111 - val_loss: 1.4522 - val_accuracy: 0.6822\n",
      "Epoch 37/60\n",
      "745/745 [==============================] - 142s 190ms/step - loss: 0.2841 - accuracy: 0.9099 - val_loss: 1.7428 - val_accuracy: 0.6571\n",
      "Epoch 38/60\n",
      "745/745 [==============================] - 149s 200ms/step - loss: 0.2978 - accuracy: 0.9066 - val_loss: 1.4407 - val_accuracy: 0.6716\n",
      "Epoch 39/60\n",
      "745/745 [==============================] - 149s 200ms/step - loss: 0.2750 - accuracy: 0.9122 - val_loss: 1.3636 - val_accuracy: 0.6855\n",
      "Epoch 40/60\n",
      "745/745 [==============================] - 148s 199ms/step - loss: 0.2828 - accuracy: 0.9135 - val_loss: 1.5960 - val_accuracy: 0.6859\n",
      "Epoch 41/60\n",
      "745/745 [==============================] - 148s 199ms/step - loss: 0.2987 - accuracy: 0.9135 - val_loss: 2.2329 - val_accuracy: 0.6442\n",
      "Epoch 42/60\n",
      "745/745 [==============================] - 148s 199ms/step - loss: 0.3452 - accuracy: 0.9123 - val_loss: 1.5853 - val_accuracy: 0.6958\n",
      "Epoch 43/60\n",
      "745/745 [==============================] - 149s 200ms/step - loss: 0.2854 - accuracy: 0.9127 - val_loss: 1.5802 - val_accuracy: 0.6645\n",
      "Epoch 44/60\n",
      "745/745 [==============================] - 149s 200ms/step - loss: 0.2923 - accuracy: 0.9117 - val_loss: 1.3935 - val_accuracy: 0.6985\n",
      "Epoch 45/60\n",
      "745/745 [==============================] - 149s 200ms/step - loss: 0.3032 - accuracy: 0.9119 - val_loss: 1.7440 - val_accuracy: 0.6619\n",
      "Epoch 46/60\n",
      "745/745 [==============================] - 148s 199ms/step - loss: 0.3053 - accuracy: 0.9073 - val_loss: 1.5223 - val_accuracy: 0.6602\n",
      "Epoch 47/60\n",
      "745/745 [==============================] - 149s 199ms/step - loss: 0.4580 - accuracy: 0.9076 - val_loss: 1.5823 - val_accuracy: 0.6896\n",
      "Epoch 48/60\n",
      "745/745 [==============================] - 149s 200ms/step - loss: 0.3144 - accuracy: 0.9151 - val_loss: 1.9645 - val_accuracy: 0.6803\n",
      "Epoch 49/60\n",
      "745/745 [==============================] - 148s 199ms/step - loss: 0.3118 - accuracy: 0.9047 - val_loss: 2.9863 - val_accuracy: 0.6052\n",
      "Epoch 50/60\n",
      "745/745 [==============================] - 148s 198ms/step - loss: 0.3594 - accuracy: 0.9021 - val_loss: 1.8593 - val_accuracy: 0.6719\n",
      "Epoch 51/60\n",
      "745/745 [==============================] - 148s 199ms/step - loss: 0.3294 - accuracy: 0.9040 - val_loss: 1.9066 - val_accuracy: 0.6323\n",
      "Epoch 52/60\n",
      "745/745 [==============================] - 148s 199ms/step - loss: 0.6444 - accuracy: 0.9015 - val_loss: 2.4880 - val_accuracy: 0.6790\n",
      "Epoch 53/60\n",
      "745/745 [==============================] - 149s 199ms/step - loss: 0.3597 - accuracy: 0.9014 - val_loss: 1.6154 - val_accuracy: 0.6823\n",
      "Epoch 54/60\n",
      "745/745 [==============================] - 148s 199ms/step - loss: 0.3661 - accuracy: 0.8975 - val_loss: 3.7721 - val_accuracy: 0.6262\n",
      "Epoch 55/60\n",
      "745/745 [==============================] - 149s 199ms/step - loss: 0.3793 - accuracy: 0.8986 - val_loss: 2.6659 - val_accuracy: 0.5253\n",
      "Epoch 56/60\n",
      "745/745 [==============================] - 179s 241ms/step - loss: 0.3398 - accuracy: 0.8952 - val_loss: 6.2518 - val_accuracy: 0.5063\n",
      "Epoch 57/60\n",
      "745/745 [==============================] - 153s 205ms/step - loss: 0.4652 - accuracy: 0.8971 - val_loss: 1.9542 - val_accuracy: 0.5809\n",
      "Epoch 58/60\n",
      "745/745 [==============================] - 151s 203ms/step - loss: 4.1717 - accuracy: 0.8918 - val_loss: 1.6182 - val_accuracy: 0.7084\n",
      "Epoch 59/60\n",
      "745/745 [==============================] - 150s 201ms/step - loss: 0.3711 - accuracy: 0.8921 - val_loss: 1.7745 - val_accuracy: 0.6316\n",
      "Epoch 60/60\n",
      "745/745 [==============================] - 151s 203ms/step - loss: 0.4121 - accuracy: 0.8892 - val_loss: 3.3540 - val_accuracy: 0.6457\n"
     ]
    },
    {
     "data": {
      "image/png": "[encoded data removed]",
      "text/plain": [
       "<Figure size 640x480 with 1 Axes>"
      ]
     },
     "metadata": {},
     "output_type": "display_data"
    }
   ],
   "source": [
    "\"\"\"\n",
    "Fine tuning\n",
    "\"\"\"\n",
    "nasnet.trainable = True\n",
    "frozen_layers_amount = int(fine_tuning_frozen_layers * len(nasnet.layers))\n",
    "for layer in nasnet.layers[:frozen_layers_amount]:\n",
    "  layer.trainable = False\n",
    "    \n",
    "nasnet_model.compile(\n",
    "    optimizer = tf.keras.optimizers.RMSprop(learning_rate=(base_learning_rate / 10)),\n",
    "    loss=\"categorical_crossentropy\",\n",
    "    metrics=[\"accuracy\"]\n",
    ")\n",
    "nasnet_model.summary()\n",
    "history_fine_tuning = nasnet_model.fit(train, validation_data=valid, epochs=epochs_total, initial_epoch=history_pretraining.epoch[-1])\n",
    "\n",
    "plt.plot(history_fine_tuning.history[\"accuracy\"], label=\"accuracy\")\n",
    "plt.plot(history_fine_tuning.history[\"val_accuracy\"], label=\"val_accuracy\")\n",
    "plt.xlabel(\"Epoch\")\n",
    "plt.ylabel(\"Accuracy\")\n",
    "plt.legend()\n",
    "plt.show()"
   ]
  },
  {
   "cell_type": "code",
   "execution_count": 9,
   "id": "aa752300-104a-400a-bd4b-6f3c84529b23",
   "metadata": {},
   "outputs": [
    {
     "name": "stderr",
     "output_type": "stream",
     "text": [
      "WARNING:absl:Found untraced functions such as _jit_compiled_convolution_op, _jit_compiled_convolution_op, _jit_compiled_convolution_op, _jit_compiled_convolution_op, _jit_compiled_convolution_op while saving (showing 5 of 196). These functions will not be directly callable after loading.\n"
     ]
    },
    {
     "name": "stdout",
     "output_type": "stream",
     "text": [
      "INFO:tensorflow:Assets written to: ../data/models_tf/NasNet_70ftfl_60e_32b\\assets\n"
     ]
    },
    {
     "name": "stderr",
     "output_type": "stream",
     "text": [
      "INFO:tensorflow:Assets written to: ../data/models_tf/NasNet_70ftfl_60e_32b\\assets\n"
     ]
    }
   ],
   "source": [
    "\"\"\"\n",
    "Save model\n",
    "\"\"\"\n",
    "nasnet_model.save(f\"{TF_MODELS_DIR}/{model_name}\")"
   ]
  },
  {
   "cell_type": "code",
   "execution_count": 11,
   "id": "8eb6b5a2",
   "metadata": {},
   "outputs": [],
   "source": [
    "\"\"\"\n",
    "Convert SavedModel (TensorFlow) to .tflite\n",
    "\"\"\"\n",
    "converter = tf.lite.TFLiteConverter.from_saved_model(f\"{TF_MODELS_DIR}/{model_name}\")\n",
    "tflite_model = converter.convert()\n",
    "\n",
    "with open(f\"{TFLITE_MODELS_DIR}/{model_name}.tflite\", \"wb\") as f:\n",
    "  f.write(tflite_model)"
   ]
  },
  {
   "cell_type": "code",
   "execution_count": null,
   "id": "984b4407-d03a-40d0-82b5-3d662caa1922",
   "metadata": {},
   "outputs": [],
   "source": []
  }
 ],
 "metadata": {
  "kernelspec": {
   "display_name": "Python 3 (ipykernel)",
   "language": "python",
   "name": "python3"
  },
  "language_info": {
   "codemirror_mode": {
    "name": "ipython",
    "version": 3
   },
   "file_extension": ".py",
   "mimetype": "text/x-python",
   "name": "python",
   "nbconvert_exporter": "python",
   "pygments_lexer": "ipython3",
   "version": "3.8.20"
  }
 },
 "nbformat": 4,
 "nbformat_minor": 5
}
