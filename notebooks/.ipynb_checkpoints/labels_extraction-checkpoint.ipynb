{
 "cells": [
  {
   "cell_type": "code",
   "execution_count": 1,
   "id": "da3584c7-14f5-472b-a2d1-28de44704d06",
   "metadata": {},
   "outputs": [
    {
     "data": {
      "text/plain": [
       "'\\nImports\\n'"
      ]
     },
     "execution_count": 1,
     "metadata": {},
     "output_type": "execute_result"
    }
   ],
   "source": [
    "\"\"\"\n",
    "Imports\n",
    "\"\"\"\n",
    "import os\n"
   ]
  },
  {
   "cell_type": "code",
   "execution_count": null,
   "id": "d00efe0b-1fa9-4397-afe2-909b64f52105",
   "metadata": {},
   "outputs": [],
   "source": [
    "\"\"\"\n",
    "Pathing\n",
    "\"\"\"\n",
    "\n",
    "combined_data_dir = \"../data/spectrograms/combined\""
   ]
  },
  {
   "cell_type": "code",
   "execution_count": null,
   "id": "491ea3a9-0ebf-43cf-a73e-b9a3a780118b",
   "metadata": {},
   "outputs": [],
   "source": [
    "\"\"\"\n",
    "Extraction - CREMA-D\n",
    "https://www.kaggle.com/datasets/ejlok1/cremad\n",
    "\"\"\"\n",
    "data_dir = \"../data/data_spectrograms/CREMA-D/AudioWAV\"\n",
    "emotions = [\"FEA\", \"ANG\", \"HAP\", \"NEU\", \"DIS\", \"SAD\"]\n",
    "\n",
    "os.makedirs(combined_data_dir, exist_ok=True)\n",
    "for emotion in emotions:\n",
    "    os.makedirs(os.path.join(combined_data_dir, emotion), exist_ok=True)\n",
    "for file in os.listdir(data_dir):\n",
    "    tokens = file.split('_')\n",
    "    if len(tokens) > 2:\n",
    "        os.rename(os.path.join(data_dir, file), os.path.join(combined_data_dir, tokens[2], file))"
   ]
  },
  {
   "cell_type": "code",
   "execution_count": null,
   "id": "aca2d134-85dd-43da-b90b-292ec16ef876",
   "metadata": {},
   "outputs": [],
   "source": [
    "\"\"\"\n",
    "Extraction - Ravdess\n",
    "https://www.kaggle.com/datasets/uwrfkaggler/ravdess-emotional-speech-audio\n",
    "\"\"\"\n",
    "data_dir = \"../data/data_spectrograms/RAVDESS\"\n",
    "emotions_dict = {\"01\": \"NEU\", \"02\": \"unknown\", \"03\": \"HAP\", \"04\": \"SAD\", \"05\": \"ANG\", \"06\": \"FEA\", \"07\": \"DIS\", \"08\": \"unknown\"}\n",
    "\n",
    "os.makedirs(combined_data_dir, exist_ok=True)\n",
    "for emotion in emotions_dict.values():\n",
    "    os.makedirs(os.path.join(combined_data_dir, emotion), exist_ok=True)\n",
    "for file in os.listdir(data_dir):\n",
    "    tokens = file.split('-')\n",
    "    if len(tokens) <= 2:\n",
    "        continue\n",
    "    emotion = emotions_dict.get(tokens[2], \"unknown\")\n",
    "    if emotion != \"unknown\":\n",
    "        os.rename(os.path.join(data_dir, file), os.path.join(combined_data_dir, emotion, file))\n"
   ]
  },
  {
   "cell_type": "code",
   "execution_count": null,
   "id": "def38f55-5e84-4592-9c86-8f2b08701acf",
   "metadata": {},
   "outputs": [],
   "source": [
    "\"\"\"\n",
    "Extraction - SAVEE\n",
    "https://www.kaggle.com/datasets/barelydedicated/savee-database\n",
    "\"\"\"\n",
    "data_dir = \"../data/data_spectrograms/SAVEE\"\n",
    "emotions_dict = {\"a\": \"ANG\", \"d\": \"DIS\", \"f\": \"FEA\", \"h\": \"HAP\", \"n\": \"NEU\", \"sa\": \"SAD\", \"su\": \"unknown\"}\n",
    "\n",
    "os.makedirs(combined_data_dir, exist_ok=True)\n",
    "for emotion in emotions_dict.values():\n",
    "    os.makedirs(os.path.join(combined_data_dir, emotion), exist_ok=True)\n",
    "for file in os.listdir(data_dir):\n",
    "    emotion = emotions_dict.get(file[0], \"unknown\")\n",
    "    if emotion != \"unknown\":\n",
    "        os.rename(os.path.join(data_dir, file), os.path.join(combined_data_dir, emotion, file))"
   ]
  },
  {
   "cell_type": "code",
   "execution_count": null,
   "id": "bfee5079-d0ff-48e4-94bc-2cfd9bd6ac7e",
   "metadata": {},
   "outputs": [],
   "source": [
    "\"\"\"\n",
    "Extraction - TESS\n",
    "https://www.kaggle.com/datasets/ejlok1/toronto-emotional-speech-set-tess\n",
    "\"\"\"\n",
    "data_dir = \"../data/data_spectrograms/TESS\"\n",
    "emotions_dict = {\"angry\": \"ANG\", \"disgust\": \"DIS\", \"fear\": \"FEA\", \"happy\": \"HAP\", \"neutral\": \"NEU\", \"sad\": \"SAD\", \"ps\": \"unknown\"}\n",
    "\n",
    "os.makedirs(combined_data_dir, exist_ok=True)\n",
    "for emotion in emotions_dict.values():\n",
    "    os.makedirs(os.path.join(combined_data_dir, emotion), exist_ok=True)\n",
    "for file in os.listdir(data_dir):\n",
    "    tokens = file.split('_')\n",
    "    if len(tokens) <= 2:\n",
    "        continue\n",
    "    emotion = emotions_dict.get(tokens[2], \"unknown\")\n",
    "    if emotion != \"unknown\":\n",
    "        os.rename(os.path.join(data_dir, file), os.path.join(combined_data_dir, emotion, file))\n"
   ]
  }
 ],
 "metadata": {
  "kernelspec": {
   "display_name": "Python 3 (ipykernel)",
   "language": "python",
   "name": "python3"
  },
  "language_info": {
   "codemirror_mode": {
    "name": "ipython",
    "version": 3
   },
   "file_extension": ".py",
   "mimetype": "text/x-python",
   "name": "python",
   "nbconvert_exporter": "python",
   "pygments_lexer": "ipython3",
   "version": "3.8.20"
  }
 },
 "nbformat": 4,
 "nbformat_minor": 5
}
